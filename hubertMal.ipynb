{
 "cells": [
  {
   "cell_type": "markdown",
   "metadata": {},
   "source": [
    "# Finetuning Hubert using malayalam dataset"
   ]
  },
  {
   "cell_type": "code",
   "execution_count": null,
   "metadata": {},
   "outputs": [
    {
     "name": "stdout",
     "output_type": "stream",
     "text": [
      "\u001b[2K   \u001b[90m━━━━━━━━━━━━━━━━━━━━━━━━━━━━━━━━━━━━━━━━\u001b[0m \u001b[32m84.0/84.0 kB\u001b[0m \u001b[31m6.4 MB/s\u001b[0m eta \u001b[36m0:00:00\u001b[0m\n",
      "\u001b[2K   \u001b[90m━━━━━━━━━━━━━━━━━━━━━━━━━━━━━━━━━━━━━━━━\u001b[0m \u001b[32m76.1/76.1 MB\u001b[0m \u001b[31m23.7 MB/s\u001b[0m eta \u001b[36m0:00:00\u001b[0m:00:01\u001b[0m00:01\u001b[0m\n",
      "\u001b[2K   \u001b[90m━━━━━━━━━━━━━━━━━━━━━━━━━━━━━━━━━━━━━━━━\u001b[0m \u001b[32m98.2/98.2 kB\u001b[0m \u001b[31m7.1 MB/s\u001b[0m eta \u001b[36m0:00:00\u001b[0m\n",
      "\u001b[2K   \u001b[90m━━━━━━━━━━━━━━━━━━━━━━━━━━━━━━━━━━━━━━━━\u001b[0m \u001b[32m3.1/3.1 MB\u001b[0m \u001b[31m86.8 MB/s\u001b[0m eta \u001b[36m0:00:00\u001b[0m:00:01\u001b[0m\n",
      "\u001b[?25h"
     ]
    }
   ],
   "source": [
    "!pip install kagglehub evaluate transformers jiwer bitsandbytes --quiet"
   ]
  },
  {
   "cell_type": "code",
   "execution_count": null,
   "metadata": {},
   "outputs": [],
   "source": [
    "import warnings\n",
    "warnings.filterwarnings(\"ignore\")\n"
   ]
  },
  {
   "cell_type": "code",
   "execution_count": null,
   "metadata": {},
   "outputs": [],
   "source": [
    "NUM_EPOCHS = 10"
   ]
  },
  {
   "cell_type": "code",
   "execution_count": null,
   "metadata": {},
   "outputs": [],
   "source": [
    "from datasets import load_dataset, Dataset, DatasetDict\n",
    "import kagglehub\n",
    "import os\n",
    "import pandas as pd\n",
    "import matplotlib.pyplot as plt\n",
    "import numpy as np\n",
    "import random\n",
    "import json\n",
    "import torch\n",
    "import evaluate\n",
    "from IPython.display import display, HTML\n",
    "import IPython.display as ipd\n",
    "from transformers import Wav2Vec2CTCTokenizer, Wav2Vec2FeatureExtractor, Wav2Vec2Processor, HubertForCTC, TrainingArguments, Trainer\n",
    "from dataclasses import dataclass, field\n",
    "from typing import Any, Dict, List, Optional, Union\n",
    "from transformers import TrainingArguments, TrainerCallback"
   ]
  },
  {
   "cell_type": "code",
   "execution_count": null,
   "metadata": {},
   "outputs": [],
   "source": [
    "# ===== KAGGLE ENVIRONMENT SETUP =====\n",
    "import os\n",
    "\n",
    "# Create output directories for Kaggle\n",
    "BASE_OUTPUT_DIR = './malayalam_hubert_output'\n",
    "os.makedirs(BASE_OUTPUT_DIR, exist_ok=True)\n"
   ]
  },
  {
   "cell_type": "code",
   "execution_count": null,
   "metadata": {},
   "outputs": [
    {
     "name": "stdout",
     "output_type": "stream",
     "text": [
      "Loading Malayalam dataset...\n",
      "Path to dataset files: /kaggle/input/multi-speaker-tts-dataset-for-malayalam\n",
      "Files in Malayalam dataset:\n",
      "['female', 'file_index_female.tsv', 'file_index_male.tsv', 'male']\n"
     ]
    },
    {
     "data": {
      "text/html": [
       "<div>\n",
       "<style scoped>\n",
       "    .dataframe tbody tr th:only-of-type {\n",
       "        vertical-align: middle;\n",
       "    }\n",
       "\n",
       "    .dataframe tbody tr th {\n",
       "        vertical-align: top;\n",
       "    }\n",
       "\n",
       "    .dataframe thead th {\n",
       "        text-align: right;\n",
       "    }\n",
       "</style>\n",
       "<table border=\"1\" class=\"dataframe\">\n",
       "  <thead>\n",
       "    <tr style=\"text-align: right;\">\n",
       "      <th></th>\n",
       "      <th>filename</th>\n",
       "      <th>sentence</th>\n",
       "      <th>file_path</th>\n",
       "    </tr>\n",
       "  </thead>\n",
       "  <tbody>\n",
       "    <tr>\n",
       "      <th>0</th>\n",
       "      <td>mlm_07330_00440358085</td>\n",
       "      <td>ഏറ്റവും വലിയ നഗരവും ഇതു തന്നെ</td>\n",
       "      <td>/kaggle/input/multi-speaker-tts-dataset-for-ma...</td>\n",
       "    </tr>\n",
       "    <tr>\n",
       "      <th>1</th>\n",
       "      <td>mlm_08777_02095990126</td>\n",
       "      <td>അദ്ദേഹം സ്ഥാപിച്ച ഏഴു പള്ളികൾ ഇവയാണ്</td>\n",
       "      <td>/kaggle/input/multi-speaker-tts-dataset-for-ma...</td>\n",
       "    </tr>\n",
       "    <tr>\n",
       "      <th>2</th>\n",
       "      <td>mlm_08777_01689351018</td>\n",
       "      <td>ആൺകുട്ടിക്ക് ഇതിനു വേണ്ട പ്രായം പതിമൂന്ന് വയസ്...</td>\n",
       "      <td>/kaggle/input/multi-speaker-tts-dataset-for-ma...</td>\n",
       "    </tr>\n",
       "    <tr>\n",
       "      <th>3</th>\n",
       "      <td>mlm_09171_01357301775</td>\n",
       "      <td>അവയിൽ പലതും മുഗൾ സാമ്രാജ്യത്തിന്റെ കൂടുതൽ ക്ഷയ...</td>\n",
       "      <td>/kaggle/input/multi-speaker-tts-dataset-for-ma...</td>\n",
       "    </tr>\n",
       "    <tr>\n",
       "      <th>4</th>\n",
       "      <td>mlm_03915_02115782201</td>\n",
       "      <td>ആശീർവാദ് സിനിമാസിന്റെ നിർമ്മാണത്തിൽ ആദ്യമായി പ...</td>\n",
       "      <td>/kaggle/input/multi-speaker-tts-dataset-for-ma...</td>\n",
       "    </tr>\n",
       "  </tbody>\n",
       "</table>\n",
       "</div>"
      ],
      "text/plain": [
       "                filename                                           sentence  \\\n",
       "0  mlm_07330_00440358085                      ഏറ്റവും വലിയ നഗരവും ഇതു തന്നെ   \n",
       "1  mlm_08777_02095990126               അദ്ദേഹം സ്ഥാപിച്ച ഏഴു പള്ളികൾ ഇവയാണ്   \n",
       "2  mlm_08777_01689351018  ആൺകുട്ടിക്ക് ഇതിനു വേണ്ട പ്രായം പതിമൂന്ന് വയസ്...   \n",
       "3  mlm_09171_01357301775  അവയിൽ പലതും മുഗൾ സാമ്രാജ്യത്തിന്റെ കൂടുതൽ ക്ഷയ...   \n",
       "4  mlm_03915_02115782201  ആശീർവാദ് സിനിമാസിന്റെ നിർമ്മാണത്തിൽ ആദ്യമായി പ...   \n",
       "\n",
       "                                           file_path  \n",
       "0  /kaggle/input/multi-speaker-tts-dataset-for-ma...  \n",
       "1  /kaggle/input/multi-speaker-tts-dataset-for-ma...  \n",
       "2  /kaggle/input/multi-speaker-tts-dataset-for-ma...  \n",
       "3  /kaggle/input/multi-speaker-tts-dataset-for-ma...  \n",
       "4  /kaggle/input/multi-speaker-tts-dataset-for-ma...  "
      ]
     },
     "metadata": {},
     "output_type": "display_data"
    }
   ],
   "source": [
    "\n",
    "# ===== DATASET LOADING =====\n",
    "# Load Malayalam dataset with proper Kaggle paths\n",
    "print(\"Loading Malayalam dataset...\")\n",
    "mal_path = kagglehub.dataset_download(\"keshan/multi-speaker-tts-dataset-for-malayalam\")\n",
    "print(\"Path to dataset files:\", mal_path)\n",
    "\n",
    "print(\"Files in Malayalam dataset:\")\n",
    "print(os.listdir(mal_path))\n",
    "\n",
    "# Process Malayalam dataset with Kaggle-compatible paths\n",
    "malayalam_csv = pd.read_csv(os.path.join(mal_path, 'file_index_male.tsv'), delimiter='\\t')\n",
    "malayalam_csv['file_path'] = malayalam_csv['filename'].apply(\n",
    "    lambda x: os.path.join(mal_path, 'male', f\"{x}.wav\")\n",
    ")\n",
    "malayalam_csv.head()\n"
   ]
  },
  {
   "cell_type": "code",
   "execution_count": null,
   "metadata": {},
   "outputs": [
    {
     "name": "stdout",
     "output_type": "stream",
     "text": [
      "DatasetDict({\n",
      "    train: Dataset({\n",
      "        features: ['filename', 'sentence', 'file_path'],\n",
      "        num_rows: 1820\n",
      "    })\n",
      "    test: Dataset({\n",
      "        features: ['filename', 'sentence', 'file_path'],\n",
      "        num_rows: 203\n",
      "    })\n",
      "})\n"
     ]
    }
   ],
   "source": [
    "# Create dataset from dataframe\n",
    "from datasets import Dataset\n",
    "ds = Dataset.from_pandas(malayalam_csv)\n",
    "\n",
    "# Split dataset\n",
    "train_test_split = ds.train_test_split(test_size=0.1)\n",
    "\n",
    "# Create DatasetDict\n",
    "malayalam_dataset = DatasetDict({\n",
    "    \"train\": train_test_split[\"train\"],\n",
    "    \"test\": train_test_split[\"test\"]\n",
    "})\n",
    "\n",
    "# Print dataset sizes\n",
    "print(malayalam_dataset)\n"
   ]
  },
  {
   "cell_type": "code",
   "execution_count": null,
   "metadata": {},
   "outputs": [
    {
     "data": {
      "text/html": [
       "<table border=\"1\" class=\"dataframe\">\n",
       "  <thead>\n",
       "    <tr style=\"text-align: right;\">\n",
       "      <th></th>\n",
       "      <th>filename</th>\n",
       "      <th>sentence</th>\n",
       "    </tr>\n",
       "  </thead>\n",
       "  <tbody>\n",
       "    <tr>\n",
       "      <th>0</th>\n",
       "      <td>mlm_02501_00668154268</td>\n",
       "      <td>നുറ് യാർഡിൽ</td>\n",
       "    </tr>\n",
       "    <tr>\n",
       "      <th>1</th>\n",
       "      <td>mlm_09125_01600666131</td>\n",
       "      <td>അപ്പോഴേക്കും ഇന്റർനെറ്റിന് ഒരു പൂർണ്ണത കൈവന്നിരുന്നു</td>\n",
       "    </tr>\n",
       "    <tr>\n",
       "      <th>2</th>\n",
       "      <td>mlm_03993_00800740086</td>\n",
       "      <td>അശോകനുശേഷം മഗധയ്ക്ക് ബലക്ഷയം നേരിട്ടു</td>\n",
       "    </tr>\n",
       "    <tr>\n",
       "      <th>3</th>\n",
       "      <td>mlm_03048_00011462628</td>\n",
       "      <td>പിന്നെ ഒരു കാര്യം പറയാന്‍ മറന്നു</td>\n",
       "    </tr>\n",
       "    <tr>\n",
       "      <th>4</th>\n",
       "      <td>mlm_02501_00534635004</td>\n",
       "      <td>പ്രശ്നം വിവരിക്കുക</td>\n",
       "    </tr>\n",
       "    <tr>\n",
       "      <th>5</th>\n",
       "      <td>mlm_09125_00574678202</td>\n",
       "      <td>ബംഗാളി എന്ന വാക്കാൽ വിവക്ഷിക്കാവുന്ന ഒന്നിലധികം കാര്യങ്ങളുണ്ട്</td>\n",
       "    </tr>\n",
       "    <tr>\n",
       "      <th>6</th>\n",
       "      <td>mlm_00950_00136984101</td>\n",
       "      <td>അതിനാൽ തന്നെക്കുറിച്ച് ആരും അധികം കേട്ടിട്ടില്ലാതിരുന്ന സ്പെയിനിലേയ്ക്ക് അദ്ദേഹം പോയി.</td>\n",
       "    </tr>\n",
       "    <tr>\n",
       "      <th>7</th>\n",
       "      <td>mlm_07330_00440358085</td>\n",
       "      <td>ഏറ്റവും വലിയ നഗരവും ഇതു തന്നെ</td>\n",
       "    </tr>\n",
       "    <tr>\n",
       "      <th>8</th>\n",
       "      <td>mlm_08777_00791876843</td>\n",
       "      <td>അവരുടെ ഭാഗമായ നൻക്രുറി സമൂഹത്തിന്റെ ചുക്കാൻ പിടിക്കുന്നത് റാണി ലക്ഷ്മിയാണ്</td>\n",
       "    </tr>\n",
       "    <tr>\n",
       "      <th>9</th>\n",
       "      <td>mlm_08777_01815072439</td>\n",
       "      <td>ജാതി എന്ന വാക്കാൽ വിവക്ഷിക്കാവുന്ന ഒന്നിലധികം കാര്യങ്ങളുണ്ട്</td>\n",
       "    </tr>\n",
       "  </tbody>\n",
       "</table>"
      ],
      "text/plain": [
       "<IPython.core.display.HTML object>"
      ]
     },
     "metadata": {},
     "output_type": "display_data"
    }
   ],
   "source": [
    "# ===== DATA VISUALIZATION =====\n",
    "def show_random_elements(dataset, num_examples=10):\n",
    "    assert num_examples <= len(dataset), \"Can't pick more elements than there are in the dataset.\"\n",
    "    picks = []\n",
    "    for _ in range(num_examples):\n",
    "        pick = random.randint(0, len(dataset)-1)\n",
    "        while pick in picks:\n",
    "            pick = random.randint(0, len(dataset)-1)\n",
    "        picks.append(pick)\n",
    "\n",
    "    df = pd.DataFrame(dataset[picks])\n",
    "    display(HTML(df.to_html()))\n",
    "\n",
    "show_random_elements(malayalam_dataset[\"train\"].remove_columns([\"file_path\"]) if \"file_path\" in malayalam_dataset[\"train\"].column_names else malayalam_dataset[\"train\"])\n"
   ]
  },
  {
   "cell_type": "code",
   "execution_count": null,
   "metadata": {},
   "outputs": [
    {
     "data": {
      "application/vnd.jupyter.widget-view+json": {
       "model_id": "d002cf7ccac84ad0a8acb8d0248e9775",
       "version_major": 2,
       "version_minor": 0
      },
      "text/plain": [
       "Map:   0%|          | 0/1820 [00:00<?, ? examples/s]"
      ]
     },
     "metadata": {},
     "output_type": "display_data"
    },
    {
     "data": {
      "application/vnd.jupyter.widget-view+json": {
       "model_id": "66c4f455bd4f4200aa28b37b739859b9",
       "version_major": 2,
       "version_minor": 0
      },
      "text/plain": [
       "Map:   0%|          | 0/203 [00:00<?, ? examples/s]"
      ]
     },
     "metadata": {},
     "output_type": "display_data"
    },
    {
     "name": "stdout",
     "output_type": "stream",
     "text": [
      "Vocabulary size: 83\n"
     ]
    }
   ],
   "source": [
    "\n",
    "# ===== VOCABULARY PREPARATION =====\n",
    "def extract_all_chars(batch):\n",
    "  all_text = \" \".join(batch[\"sentence\"])\n",
    "  vocab = list(set(all_text))\n",
    "  return {\"vocab\": [vocab], \"all_text\": [all_text]}\n",
    "\n",
    "vocabs = malayalam_dataset.map(extract_all_chars, batched=True, batch_size=-1, keep_in_memory=True, \n",
    "                              remove_columns=malayalam_dataset.column_names[\"train\"])\n",
    "vocab_list = list(set(vocabs[\"train\"][\"vocab\"][0]) | set(vocabs[\"test\"][\"vocab\"][0]))\n",
    "\n",
    "# Create vocabulary with proper indexing - ensure consistent ordering\n",
    "vocab_list = sorted(vocab_list)\n",
    "vocab_dict = {v: k for k, v in enumerate(vocab_list)}\n",
    "\n",
    "# Handle special tokens\n",
    "vocab_dict[\"|\"] = vocab_dict[\" \"] if \" \" in vocab_dict else len(vocab_dict)\n",
    "if \" \" in vocab_dict: del vocab_dict[\" \"]\n",
    "vocab_dict[\"[UNK]\"] = len(vocab_dict)\n",
    "vocab_dict[\"[PAD]\"] = len(vocab_dict)\n",
    "print(f\"Vocabulary size: {len(vocab_dict)}\")\n",
    "\n",
    "# Save vocabulary to the Kaggle working directory\n",
    "vocab_path = os.path.join(BASE_OUTPUT_DIR, 'malayalam_vocab.json')\n",
    "with open(vocab_path, 'w') as vocab_file:\n",
    "    json.dump(vocab_dict, vocab_file)"
   ]
  },
  {
   "cell_type": "code",
   "execution_count": null,
   "metadata": {},
   "outputs": [],
   "source": [
    "# ===== PROCESSOR SETUP =====\n",
    "tokenizer = Wav2Vec2CTCTokenizer(vocab_path, unk_token=\"[UNK]\", pad_token=\"[PAD]\", word_delimiter_token=\"|\")\n",
    "feature_extractor = Wav2Vec2FeatureExtractor(feature_size=1, sampling_rate=16000, padding_value=0.0, do_normalize=True, return_attention_mask=False)\n",
    "processor = Wav2Vec2Processor(feature_extractor=feature_extractor, tokenizer=tokenizer)\n"
   ]
  },
  {
   "cell_type": "code",
   "execution_count": null,
   "metadata": {},
   "outputs": [
    {
     "name": "stdout",
     "output_type": "stream",
     "text": [
      "Processing dataset...\n"
     ]
    },
    {
     "data": {
      "application/vnd.jupyter.widget-view+json": {
       "model_id": "5d9be760e8fd4ce583678485aaa84c1f",
       "version_major": 2,
       "version_minor": 0
      },
      "text/plain": [
       "Map (num_proc=4):   0%|          | 0/1820 [00:00<?, ? examples/s]"
      ]
     },
     "metadata": {},
     "output_type": "display_data"
    },
    {
     "data": {
      "application/vnd.jupyter.widget-view+json": {
       "model_id": "1166e58999744320bf79f74000cab69b",
       "version_major": 2,
       "version_minor": 0
      },
      "text/plain": [
       "Map (num_proc=4):   0%|          | 0/203 [00:00<?, ? examples/s]"
      ]
     },
     "metadata": {},
     "output_type": "display_data"
    }
   ],
   "source": [
    "\n",
    "# ===== AUDIO PROCESSING FUNCTION =====\n",
    "# Function to load audio from file path\n",
    "def load_audio_from_file(file_path):\n",
    "    import soundfile as sf\n",
    "    import librosa\n",
    "    \n",
    "    try:\n",
    "        # Load audio with soundfile\n",
    "        speech_array, sampling_rate = sf.read(file_path)\n",
    "        \n",
    "        # Handle stereo files by converting to mono if needed\n",
    "        if len(speech_array.shape) > 1:\n",
    "            speech_array = speech_array[:, 0]  # Take first channel\n",
    "        \n",
    "        # Resample to 16000 Hz if needed (fix for the sampling rate error)\n",
    "        if sampling_rate != 16000:\n",
    "            # print(f\"Resampling audio from {sampling_rate} Hz to 16000 Hz: {file_path}\")\n",
    "            speech_array = librosa.resample(\n",
    "                speech_array,\n",
    "                orig_sr=sampling_rate,\n",
    "                target_sr=16000\n",
    "            )\n",
    "            sampling_rate = 16000\n",
    "            \n",
    "        return {\"array\": speech_array, \"sampling_rate\": sampling_rate}\n",
    "    \n",
    "    except Exception as e:\n",
    "        print(f\"Error loading {file_path}: {e}\")\n",
    "        # Return dummy data to prevent pipeline from breaking\n",
    "        return {\"array\": np.zeros(1000), \"sampling_rate\": 16000}\n",
    "\n",
    "# Data preparation function\n",
    "def prepare_dataset(batch):\n",
    "    # Load audio from file\n",
    "    audio = load_audio_from_file(batch[\"file_path\"])\n",
    "    \n",
    "    # Process audio data\n",
    "    batch[\"input_values\"] = processor(audio[\"array\"], sampling_rate=audio[\"sampling_rate\"]).input_values[0]\n",
    "    \n",
    "    # Encode text\n",
    "    with processor.as_target_processor():\n",
    "        batch[\"labels\"] = processor(batch[\"sentence\"]).input_ids\n",
    "    \n",
    "    return batch\n",
    "\n",
    "# Apply processing to dataset\n",
    "print(\"Processing dataset...\")\n",
    "malayalam_dataset = malayalam_dataset.map(prepare_dataset, remove_columns=malayalam_dataset.column_names[\"train\"], num_proc=4)\n",
    "\n"
   ]
  },
  {
   "cell_type": "code",
   "execution_count": null,
   "metadata": {},
   "outputs": [],
   "source": [
    "# ===== DATA COLLATOR =====\n",
    "@dataclass\n",
    "class DataCollatorCTCWithPadding:\n",
    "    processor: Wav2Vec2Processor\n",
    "    padding: Union[bool, str] = True\n",
    "    max_length: Optional[int] = None\n",
    "    max_length_labels: Optional[int] = None\n",
    "    pad_to_multiple_of: Optional[int] = None\n",
    "    pad_to_multiple_of_labels: Optional[int] = None\n",
    "\n",
    "    def __call__(self, features: List[Dict[str, Union[List[int], torch.Tensor]]]) -> Dict[str, torch.Tensor]:\n",
    "        input_features = [{\"input_values\": feature[\"input_values\"]} for feature in features]\n",
    "        label_features = [{\"input_ids\": feature[\"labels\"]} for feature in features]\n",
    "\n",
    "        batch = self.processor.pad(\n",
    "            input_features,\n",
    "            padding=self.padding,\n",
    "            max_length=self.max_length,\n",
    "            pad_to_multiple_of=self.pad_to_multiple_of,\n",
    "            return_tensors=\"pt\",\n",
    "        )\n",
    "\n",
    "        with self.processor.as_target_processor():\n",
    "            labels_batch = self.processor.pad(\n",
    "                label_features,\n",
    "                padding=self.padding,\n",
    "                max_length=self.max_length_labels,\n",
    "                pad_to_multiple_of=self.pad_to_multiple_of_labels,\n",
    "                return_tensors=\"pt\",\n",
    "            )\n",
    "\n",
    "        labels = labels_batch[\"input_ids\"].masked_fill(labels_batch.attention_mask.ne(1), -100)\n",
    "        batch[\"labels\"] = labels\n",
    "        return batch\n",
    "\n",
    "data_collator = DataCollatorCTCWithPadding(processor=processor, padding=True)\n"
   ]
  },
  {
   "cell_type": "code",
   "execution_count": null,
   "metadata": {},
   "outputs": [
    {
     "data": {
      "application/vnd.jupyter.widget-view+json": {
       "model_id": "624ff50076c749b79d5b8f1a221c901d",
       "version_major": 2,
       "version_minor": 0
      },
      "text/plain": [
       "Downloading builder script:   0%|          | 0.00/4.49k [00:00<?, ?B/s]"
      ]
     },
     "metadata": {},
     "output_type": "display_data"
    },
    {
     "data": {
      "application/vnd.jupyter.widget-view+json": {
       "model_id": "30ed4970122b4cf29a59de675eb1a7b6",
       "version_major": 2,
       "version_minor": 0
      },
      "text/plain": [
       "Downloading builder script:   0%|          | 0.00/5.60k [00:00<?, ?B/s]"
      ]
     },
     "metadata": {},
     "output_type": "display_data"
    }
   ],
   "source": [
    "# ===== METRICS =====\n",
    "wer_metric = evaluate.load(\"wer\")\n",
    "cer_metric = evaluate.load(\"cer\")\n",
    "\n",
    "def compute_metrics(pred):\n",
    "    pred_logits = pred.predictions\n",
    "    pred_ids = np.argmax(pred_logits, axis=-1)\n",
    "    \n",
    "    # Replace -100 with pad token ID\n",
    "    pred.label_ids[pred.label_ids == -100] = processor.tokenizer.pad_token_id\n",
    "    \n",
    "    # Decode predictions and references\n",
    "    pred_str = processor.batch_decode(pred_ids)\n",
    "    label_str = processor.batch_decode(pred.label_ids, group_tokens=False)\n",
    "    \n",
    "    # Calculate WER and CER\n",
    "    wer = wer_metric.compute(predictions=pred_str, references=label_str)\n",
    "    cer = cer_metric.compute(predictions=pred_str, references=label_str)\n",
    "    \n",
    "    return {\"wer\": wer, \"cer\": cer}\n"
   ]
  },
  {
   "cell_type": "code",
   "execution_count": null,
   "metadata": {},
   "outputs": [
    {
     "name": "stdout",
     "output_type": "stream",
     "text": [
      "Training from pre-trained model\n"
     ]
    },
    {
     "data": {
      "application/vnd.jupyter.widget-view+json": {
       "model_id": "b31a927b2cf946658013c38745ca38e7",
       "version_major": 2,
       "version_minor": 0
      },
      "text/plain": [
       "config.json:   0%|          | 0.00/1.38k [00:00<?, ?B/s]"
      ]
     },
     "metadata": {},
     "output_type": "display_data"
    },
    {
     "data": {
      "application/vnd.jupyter.widget-view+json": {
       "model_id": "cc5c4d8c4bf0449eb22d0d63d719fd46",
       "version_major": 2,
       "version_minor": 0
      },
      "text/plain": [
       "pytorch_model.bin:   0%|          | 0.00/1.26G [00:00<?, ?B/s]"
      ]
     },
     "metadata": {},
     "output_type": "display_data"
    },
    {
     "name": "stderr",
     "output_type": "stream",
     "text": [
      "Some weights of HubertForCTC were not initialized from the model checkpoint at facebook/hubert-large-ls960-ft and are newly initialized because the shapes did not match:\n",
      "- lm_head.weight: found shape torch.Size([32, 1024]) in the checkpoint and torch.Size([83, 1024]) in the model instantiated\n",
      "- lm_head.bias: found shape torch.Size([32]) in the checkpoint and torch.Size([83]) in the model instantiated\n",
      "You should probably TRAIN this model on a down-stream task to be able to use it for predictions and inference.\n"
     ]
    },
    {
     "name": "stdout",
     "output_type": "stream",
     "text": [
      "Model vocab size: 83\n",
      "Tokenizer vocab size: 85\n",
      "Vocabulary: [',', '-', '.', 'U', '_', 'e', 'l', 'r', 't', 'ം']... (showing first 10 tokens)\n",
      "WARNING: Vocabulary size mismatch between model and tokenizer!\n"
     ]
    }
   ],
   "source": [
    "\n",
    "# ===== MODEL SETUP =====\n",
    "# Function to check for existing checkpoints with Kaggle paths\n",
    "def get_latest_checkpoint(output_dir):\n",
    "    if not os.path.exists(output_dir):\n",
    "        return None\n",
    "    \n",
    "    checkpoints = [os.path.join(output_dir, d) for d in os.listdir(output_dir) \n",
    "                  if os.path.isdir(os.path.join(output_dir, d)) and 'checkpoint' in d]\n",
    "    \n",
    "    if not checkpoints:\n",
    "        return None\n",
    "    \n",
    "    # Sort by modification time\n",
    "    latest_checkpoint = max(checkpoints, key=os.path.getmtime)\n",
    "    return latest_checkpoint\n",
    "\n",
    "# Set output directory for Kaggle\n",
    "output_dir = BASE_OUTPUT_DIR\n",
    "\n",
    "# Check for checkpoint\n",
    "latest_checkpoint = get_latest_checkpoint(output_dir)\n",
    "resume_from_checkpoint = latest_checkpoint if latest_checkpoint else None\n",
    "\n",
    "if resume_from_checkpoint:\n",
    "    print(f\"Resuming from checkpoint: {resume_from_checkpoint}\")\n",
    "    # Load model from checkpoint\n",
    "    model = HubertForCTC.from_pretrained(\n",
    "        resume_from_checkpoint,\n",
    "        ctc_loss_reduction=\"mean\",\n",
    "        pad_token_id=processor.tokenizer.pad_token_id,\n",
    "        vocab_size=len(vocab_dict),  # Fix: Set vocabulary size to match tokenizer\n",
    "    )\n",
    "else:\n",
    "    print(\"Training from pre-trained model\")\n",
    "    # Start fresh with pre-trained model\n",
    "    model = HubertForCTC.from_pretrained(\n",
    "        \"facebook/hubert-large-ls960-ft\",\n",
    "        ctc_loss_reduction=\"mean\",\n",
    "        pad_token_id=processor.tokenizer.pad_token_id,\n",
    "        vocab_size=len(vocab_dict),  # Fix: Set vocabulary size to match tokenizer\n",
    "        ignore_mismatched_sizes=True,  # Fix: Allow loading with mismatched vocabulary sizes\n",
    "    )\n",
    "\n",
    "# Freeze feature extractor parameters\n",
    "model.freeze_feature_extractor()\n",
    "\n",
    "# Check vocabulary compatibility and print more detailed diagnostic info\n",
    "print(f\"Model vocab size: {model.config.vocab_size}\")\n",
    "print(f\"Tokenizer vocab size: {len(processor.tokenizer.get_vocab())}\")\n",
    "print(f\"Vocabulary: {list(processor.tokenizer.get_vocab().keys())[:10]}... (showing first 10 tokens)\")\n",
    "if model.config.vocab_size != len(processor.tokenizer.get_vocab()):\n",
    "    print(\"WARNING: Vocabulary size mismatch between model and tokenizer!\")\n"
   ]
  },
  {
   "cell_type": "code",
   "execution_count": null,
   "metadata": {},
   "outputs": [
    {
     "name": "stdout",
     "output_type": "stream",
     "text": [
      "Vocabulary: [',', '-', '.', 'U', '_', 'e', 'l', 'r', 't', 'ം', 'ഃ', 'അ', 'ആ', 'ഇ', 'ഈ', 'ഉ', 'ഊ', 'ഋ', 'എ', 'ഏ', 'ഐ', 'ഒ', 'ഓ', 'ഔ', 'ക', 'ഖ', 'ഗ', 'ഘ', 'ങ', 'ച', 'ഛ', 'ജ', 'ഞ', 'ട', 'ഠ', 'ഡ', 'ഢ', 'ണ', 'ത', 'ഥ', 'ദ', 'ധ', 'ന', 'പ', 'ഫ', 'ബ', 'ഭ', 'മ', 'യ', 'ര', 'റ', 'ല', 'ള', 'ഴ', 'വ', 'ശ', 'ഷ', 'സ', 'ഹ', 'ാ', 'ി', 'ീ', 'ു', 'ൂ', 'ൃ', 'െ', 'േ', 'ൈ', 'ൊ', 'ോ', 'ൌ', '്', 'ൗ', 'ൺ', 'ൻ', 'ർ', 'ൽ', 'ൾ', '\\u200c', '\\u200d', '|', '[UNK]', '[PAD]', '<s>', '</s>']... (showing first 10 tokens)\n"
     ]
    }
   ],
   "source": [
    "print(f\"Vocabulary: {list(processor.tokenizer.get_vocab().keys())}... (showing first 10 tokens)\")\n"
   ]
  },
  {
   "cell_type": "code",
   "execution_count": null,
   "metadata": {},
   "outputs": [],
   "source": [
    "# ===== TRAINING SETUP =====\n",
    "# Initialize lists to store metrics\n",
    "training_loss = []\n",
    "eval_metrics = {'wer': [], 'cer': []}\n",
    "steps = []\n",
    "\n",
    "# Custom callback to capture and save metrics with proper Kaggle paths\n",
    "class MetricsCallback(TrainerCallback):\n",
    "    def on_evaluate(self, args, state, control, metrics, **kwargs):\n",
    "        steps.append(state.global_step)\n",
    "        eval_metrics['wer'].append(metrics.get('eval_wer', 0))\n",
    "        eval_metrics['cer'].append(metrics.get('eval_cer', 0))\n",
    "        \n",
    "        # Plot metrics\n",
    "        plt.figure(figsize=(12, 6))\n",
    "        \n",
    "        # WER and CER subplot\n",
    "        plt.subplot(1, 2, 1)\n",
    "        plt.plot(steps, eval_metrics['wer'], 'b-', label='WER')\n",
    "        plt.plot(steps, eval_metrics['cer'], 'r-', label='CER')\n",
    "        plt.xlabel('Training Steps')\n",
    "        plt.ylabel('Error Rate')\n",
    "        plt.title('WER and CER')\n",
    "        plt.legend()\n",
    "        plt.grid(True)\n",
    "        \n",
    "        # Loss subplot\n",
    "        if len(training_loss) > 0:\n",
    "            plt.subplot(1, 2, 2)\n",
    "            plt.plot(range(len(training_loss)), training_loss, 'g-')\n",
    "            plt.xlabel('Training Steps')\n",
    "            plt.ylabel('Loss')\n",
    "            plt.title('Training Loss')\n",
    "            plt.grid(True)\n",
    "        \n",
    "        plt.tight_layout()\n",
    "        \n",
    "        # Save plots to Kaggle output directory\n",
    "        plot_path = os.path.join(args.output_dir, 'metrics_plot.png')\n",
    "        plt.savefig(plot_path)\n",
    "        plt.close()\n",
    "        \n",
    "        # Also save the metrics data for later use\n",
    "        metrics_path = os.path.join(args.output_dir, 'metrics.json')\n",
    "        with open(metrics_path, 'w') as f:\n",
    "            json.dump({\n",
    "                'steps': steps,\n",
    "                'wer': eval_metrics['wer'],\n",
    "                'cer': eval_metrics['cer'],\n",
    "                'loss': training_loss\n",
    "            }, f)\n",
    "\n",
    "    def on_log(self, args, state, control, logs=None, **kwargs):\n",
    "        if logs is not None and \"loss\" in logs:\n",
    "            training_loss.append(logs[\"loss\"])\n",
    "\n",
    "# Training arguments adjusted for Kaggle\n",
    "training_args = TrainingArguments(\n",
    "    output_dir=output_dir,\n",
    "    group_by_length=False,\n",
    "    # Reduce batch size for Kaggle's GPU memory constraints\n",
    "    per_device_train_batch_size=4,  \n",
    "    gradient_accumulation_steps=4,  # Increase to compensate for smaller batch size\n",
    "    evaluation_strategy=\"steps\",\n",
    "    num_train_epochs=NUM_EPOCHS,\n",
    "    gradient_checkpointing=True,\n",
    "    fp16=True,  # Enable mixed precision for faster training on Kaggle GPU\n",
    "    save_steps=100,\n",
    "    eval_steps=100,\n",
    "    logging_steps=50,\n",
    "    learning_rate=3e-4,\n",
    "    warmup_steps=10,\n",
    "    save_total_limit=2,  # Reduce to save Kaggle disk space\n",
    "    push_to_hub=False,\n",
    "    load_best_model_at_end=True,\n",
    "    metric_for_best_model=\"wer\",\n",
    "    greater_is_better=False,\n",
    "    # Add report_to for Kaggle visualization\n",
    "    report_to=[\"tensorboard\"],\n",
    ")\n"
   ]
  },
  {
   "cell_type": "code",
   "execution_count": null,
   "metadata": {},
   "outputs": [
    {
     "data": {
      "text/html": [
       "\n",
       "    <div>\n",
       "      \n",
       "      <progress value='1130' max='1130' style='width:300px; height:20px; vertical-align: middle;'></progress>\n",
       "      [1130/1130 58:21, Epoch 9/10]\n",
       "    </div>\n",
       "    <table border=\"1\" class=\"dataframe\">\n",
       "  <thead>\n",
       " <tr style=\"text-align: left;\">\n",
       "      <th>Step</th>\n",
       "      <th>Training Loss</th>\n",
       "      <th>Validation Loss</th>\n",
       "      <th>Wer</th>\n",
       "      <th>Cer</th>\n",
       "    </tr>\n",
       "  </thead>\n",
       "  <tbody>\n",
       "    <tr>\n",
       "      <td>100</td>\n",
       "      <td>3.480200</td>\n",
       "      <td>3.444981</td>\n",
       "      <td>1.000000</td>\n",
       "      <td>1.000000</td>\n",
       "    </tr>\n",
       "    <tr>\n",
       "      <td>200</td>\n",
       "      <td>1.911100</td>\n",
       "      <td>1.076450</td>\n",
       "      <td>0.975552</td>\n",
       "      <td>0.306482</td>\n",
       "    </tr>\n",
       "    <tr>\n",
       "      <td>300</td>\n",
       "      <td>0.926100</td>\n",
       "      <td>0.675107</td>\n",
       "      <td>0.802050</td>\n",
       "      <td>0.179651</td>\n",
       "    </tr>\n",
       "    <tr>\n",
       "      <td>400</td>\n",
       "      <td>0.695000</td>\n",
       "      <td>0.530308</td>\n",
       "      <td>0.671924</td>\n",
       "      <td>0.139250</td>\n",
       "    </tr>\n",
       "    <tr>\n",
       "      <td>500</td>\n",
       "      <td>0.598600</td>\n",
       "      <td>0.477842</td>\n",
       "      <td>0.626972</td>\n",
       "      <td>0.124928</td>\n",
       "    </tr>\n",
       "    <tr>\n",
       "      <td>600</td>\n",
       "      <td>0.547300</td>\n",
       "      <td>0.477290</td>\n",
       "      <td>0.611199</td>\n",
       "      <td>0.118387</td>\n",
       "    </tr>\n",
       "    <tr>\n",
       "      <td>700</td>\n",
       "      <td>0.477400</td>\n",
       "      <td>0.444577</td>\n",
       "      <td>0.599369</td>\n",
       "      <td>0.114413</td>\n",
       "    </tr>\n",
       "    <tr>\n",
       "      <td>800</td>\n",
       "      <td>0.439800</td>\n",
       "      <td>0.439806</td>\n",
       "      <td>0.577287</td>\n",
       "      <td>0.107708</td>\n",
       "    </tr>\n",
       "    <tr>\n",
       "      <td>900</td>\n",
       "      <td>0.422700</td>\n",
       "      <td>0.437122</td>\n",
       "      <td>0.566246</td>\n",
       "      <td>0.107128</td>\n",
       "    </tr>\n",
       "    <tr>\n",
       "      <td>1000</td>\n",
       "      <td>0.380500</td>\n",
       "      <td>0.432497</td>\n",
       "      <td>0.557571</td>\n",
       "      <td>0.105390</td>\n",
       "    </tr>\n",
       "    <tr>\n",
       "      <td>1100</td>\n",
       "      <td>0.375100</td>\n",
       "      <td>0.432560</td>\n",
       "      <td>0.555994</td>\n",
       "      <td>0.103651</td>\n",
       "    </tr>\n",
       "  </tbody>\n",
       "</table><p>"
      ],
      "text/plain": [
       "<IPython.core.display.HTML object>"
      ]
     },
     "metadata": {},
     "output_type": "display_data"
    },
    {
     "data": {
      "text/plain": [
       "TrainOutput(global_step=1130, training_loss=1.2497279445681952, metrics={'train_runtime': 3506.6589, 'train_samples_per_second': 5.19, 'train_steps_per_second': 0.322, 'total_flos': 3.3659216010479713e+18, 'train_loss': 1.2497279445681952, 'epoch': 9.914285714285715})"
      ]
     },
     "metadata": {},
     "output_type": "display_data"
    }
   ],
   "source": [
    "# Create an instance of the metrics callback\n",
    "metrics_callback = MetricsCallback()\n",
    "\n",
    "# ===== TRAINING =====\n",
    "trainer = Trainer(\n",
    "    model=model,\n",
    "    data_collator=data_collator,\n",
    "    args=training_args,\n",
    "    compute_metrics=compute_metrics,\n",
    "    train_dataset=malayalam_dataset[\"train\"],\n",
    "    eval_dataset=malayalam_dataset[\"test\"],\n",
    "    callbacks=[metrics_callback],  # Add the metrics callback to the trainer\n",
    ")\n",
    "\n",
    "\n",
    "# Start or resume training\n",
    "trainer.train()\n"
   ]
  },
  {
   "cell_type": "code",
   "execution_count": null,
   "metadata": {},
   "outputs": [
    {
     "name": "stdout",
     "output_type": "stream",
     "text": [
      "Evaluating model...\n"
     ]
    },
    {
     "data": {
      "text/html": [
       "\n",
       "    <div>\n",
       "      \n",
       "      <progress value='52' max='26' style='width:300px; height:20px; vertical-align: middle;'></progress>\n",
       "      [26/26 3:28:57]\n",
       "    </div>\n",
       "    "
      ],
      "text/plain": [
       "<IPython.core.display.HTML object>"
      ]
     },
     "metadata": {},
     "output_type": "display_data"
    },
    {
     "name": "stdout",
     "output_type": "stream",
     "text": [
      "Final evaluation results: {'eval_loss': 0.4325598478317261, 'eval_wer': 0.555993690851735, 'eval_cer': 0.10365096448381489, 'eval_runtime': 16.7744, 'eval_samples_per_second': 12.102, 'eval_steps_per_second': 1.55, 'epoch': 9.914285714285715}\n",
      "\n",
      "===== PREDICTION EXAMPLE =====\n",
      "Prediction: അഭിനയതാക്കളായി തിറെഞ്ഞെടുത്ത് രണ്ടാം നിരം നടിമാരയായിരുന്നു\n",
      "Ground Truth: അഭിനേതാക്കളായി തിരഞ്ഞെടുത്തത്‌ രണ്ടാംനിര നടീനടൻമാരെയായിരുന്നു\n"
     ]
    },
    {
     "data": {
      "image/png": "[encoded data removed]",
      "text/plain": [
       "<Figure size 1500x1000 with 2 Axes>"
      ]
     },
     "metadata": {},
     "output_type": "display_data"
    },
    {
     "name": "stdout",
     "output_type": "stream",
     "text": [
      "Saved prediction comparison to ./malayalam_hubert_output/sample_prediction.json\n",
      "Could not save test sample: 'list' object has no attribute 'tolist'\n",
      "Training and evaluation complete. Results saved to: ./malayalam_hubert_output\n"
     ]
    }
   ],
   "source": [
    "  # ===== EVALUATION =====\n",
    "print(\"Evaluating model...\")\n",
    "# Fix: Remove unsupported parameters\n",
    "eval_results = trainer.evaluate(\n",
    "    eval_dataset=malayalam_dataset[\"test\"], \n",
    "    metric_key_prefix=\"eval\"\n",
    ")\n",
    "print(f\"Final evaluation results: {eval_results}\")\n",
    "\n",
    "# Make prediction on a test sample and compare with ground truth\n",
    "print(\"\\n===== PREDICTION EXAMPLE =====\")\n",
    "# Get a sample from the test set\n",
    "sample = malayalam_dataset[\"test\"][0]\n",
    "\n",
    "# Fix: Get model's device and ensure input tensor is on the same device\n",
    "device = model.device\n",
    "# Convert to float16 (for mixed precision) and move to the correct device\n",
    "input_values = torch.tensor(sample[\"input_values\"], dtype=torch.float16).unsqueeze(0).to(device)\n",
    "\n",
    "# Make prediction\n",
    "with torch.no_grad():\n",
    "    logits = model(input_values).logits\n",
    "    predicted_ids = torch.argmax(logits, dim=-1)\n",
    "\n",
    "# Decode the prediction and ground truth\n",
    "predicted_text = processor.batch_decode(predicted_ids)[0]\n",
    "ground_truth = processor.decode(sample[\"labels\"], group_tokens=False)\n",
    "\n",
    "# Display the comparison\n",
    "print(\"Prediction:\", predicted_text)\n",
    "print(\"Ground Truth:\", ground_truth)\n",
    "\n",
    "# Plot final metrics\n",
    "plt.figure(figsize=(15, 10))\n",
    "\n",
    "# WER and CER\n",
    "plt.subplot(1, 2, 1)\n",
    "plt.plot(steps, eval_metrics['wer'], 'b-', label='WER')\n",
    "plt.plot(steps, eval_metrics['cer'], 'r-', label='CER')\n",
    "plt.xlabel('Training Steps')\n",
    "plt.ylabel('Error Rate')\n",
    "plt.title('Word and Character Error Rates Throughout Training')\n",
    "plt.legend()\n",
    "plt.grid(True)\n",
    "\n",
    "# Loss\n",
    "plt.subplot(1, 2, 2)\n",
    "plt.plot(range(len(training_loss)), training_loss, 'g-')\n",
    "plt.xlabel('Training Steps')\n",
    "plt.ylabel('Loss')\n",
    "plt.title('Training Loss Progression')\n",
    "plt.grid(True)\n",
    "\n",
    "plt.tight_layout()\n",
    "plt.savefig(os.path.join(output_dir, 'final_metrics.png'))\n",
    "plt.show()\n",
    "\n",
    "# Save prediction comparison to file\n",
    "prediction_output = os.path.join(output_dir, 'sample_prediction.json')\n",
    "with open(prediction_output, 'w') as f:\n",
    "    json.dump({\n",
    "        'prediction': predicted_text,\n",
    "        'ground_truth': ground_truth\n",
    "    }, f)\n",
    "print(f\"Saved prediction comparison to {prediction_output}\")\n",
    "\n",
    "# Save final model to Kaggle-accessible path\n",
    "final_model_path = os.path.join(output_dir, 'final_model')\n",
    "os.makedirs(final_model_path, exist_ok=True)\n",
    "model.save_pretrained(final_model_path)\n",
    "processor.save_pretrained(final_model_path)\n",
    "\n",
    "# Save a sample for quick testing\n",
    "try:\n",
    "    test_sample = malayalam_dataset[\"test\"][0]\n",
    "    test_sample_path = os.path.join(output_dir, 'test_sample.json')\n",
    "    with open(test_sample_path, 'w') as f:\n",
    "        json.dump({\n",
    "            'input_values': test_sample['input_values'][:100].tolist(),  # Save just a snippet\n",
    "            'labels': test_sample['labels'].tolist()\n",
    "        }, f)\n",
    "    print(f\"Saved test sample to {test_sample_path}\")\n",
    "except Exception as e:\n",
    "    print(f\"Could not save test sample: {e}\")\n",
    "\n",
    "print(\"Training and evaluation complete. Results saved to:\", output_dir)\n",
    "\n",
    "\n"
   ]
  },
  {
   "cell_type": "markdown",
   "metadata": {},
   "source": [
    "## **1. HuBERT Model Inference**\n",
    "### **Key Observations**\n",
    "- **Final WER**: 0.556\n",
    "- **Final CER**: 0.103\n",
    "- **Loss Curve**: The loss starts high (~9) and steadily decreases, converging around 0.5. The curve indicates stable training.\n",
    "- **WER and CER Curves**:\n",
    "  - Both metrics show a consistent downward trend. The WER stabilizes around **0.55**, while the CER reaches **0.10**, indicating improved character-level accuracy.\n",
    "- **Prediction Example**: Shows promising alignment with the ground truth, though still some errors persist.\n",
    "\n",
    "### **Key Takeaways**\n",
    "- The model demonstrates reasonable performance with a **WER of 55.6%**, suggesting moderate success in word-level recognition.\n",
    "- The **CER of 10.3%** reflects better performance in character recognition, meaning the model performs well with smaller units (characters)."
   ]
  },
  {
   "cell_type": "code",
   "execution_count": null,
   "metadata": {},
   "outputs": [
    {
     "name": "stdout",
     "output_type": "stream",
     "text": [
      "Cleared the /kaggle/working directory successfully.\n"
     ]
    }
   ],
   "source": [
    "import shutil\n",
    "import os\n",
    "\n",
    "def clear_kaggle_working():\n",
    "    working_dir = \"/kaggle/working\"\n",
    "    \n",
    "    # List all files and folders in the directory\n",
    "    for item in os.listdir(working_dir):\n",
    "        item_path = os.path.join(working_dir, item)\n",
    "        \n",
    "        # Remove files or directories\n",
    "        if os.path.isfile(item_path):\n",
    "            os.remove(item_path)\n",
    "        elif os.path.isdir(item_path):\n",
    "            shutil.rmtree(item_path)\n",
    "\n",
    "    print(\"Cleared the /kaggle/working directory successfully.\")\n",
    "\n",
    "clear_kaggle_working()"
   ]
  }
 ],
 "metadata": {
  "language_info": {
   "name": "python"
  }
 },
 "nbformat": 4,
 "nbformat_minor": 2
}
